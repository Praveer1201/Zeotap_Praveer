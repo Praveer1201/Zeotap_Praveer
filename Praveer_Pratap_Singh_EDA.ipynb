{
  "nbformat": 4,
  "nbformat_minor": 0,
  "metadata": {
    "colab": {
      "provenance": []
    },
    "kernelspec": {
      "name": "python3",
      "display_name": "Python 3"
    },
    "language_info": {
      "name": "python"
    }
  },
  "cells": [
    {
      "cell_type": "code",
      "execution_count": 2,
      "metadata": {
        "id": "-M1vSvA6tsJ9"
      },
      "outputs": [],
      "source": [
        "import pandas as pd"
      ]
    },
    {
      "cell_type": "code",
      "source": [
        "transactions_path = '/content/Transactions.csv'\n",
        "products_path = '/content/Products.csv'\n",
        "customers_path = '/content/Customers.csv'"
      ],
      "metadata": {
        "id": "CivPKW8zuD60"
      },
      "execution_count": 3,
      "outputs": []
    },
    {
      "cell_type": "code",
      "source": [
        "# Load the data from the CSV files into pandas DataFrames\n",
        "transactions_df = pd.read_csv(transactions_path) # Load transactions data\n",
        "products_df = pd.read_csv(products_path) # Load products data\n",
        "customers_df = pd.read_csv(customers_path) # Load customers data"
      ],
      "metadata": {
        "id": "Ga6_r3pTuUNC"
      },
      "execution_count": 5,
      "outputs": []
    },
    {
      "cell_type": "code",
      "source": [
        "transactions_info = transactions_df.info()\n",
        "products_info = products_df.info()\n",
        "customers_info = customers_df.info()"
      ],
      "metadata": {
        "colab": {
          "base_uri": "https://localhost:8080/"
        },
        "id": "2qxPx2lsunjw",
        "outputId": "9a57bf1d-9d2b-427b-e40a-ec3c1ec76dde"
      },
      "execution_count": 6,
      "outputs": [
        {
          "output_type": "stream",
          "name": "stdout",
          "text": [
            "<class 'pandas.core.frame.DataFrame'>\n",
            "RangeIndex: 1000 entries, 0 to 999\n",
            "Data columns (total 7 columns):\n",
            " #   Column           Non-Null Count  Dtype  \n",
            "---  ------           --------------  -----  \n",
            " 0   TransactionID    1000 non-null   object \n",
            " 1   CustomerID       1000 non-null   object \n",
            " 2   ProductID        1000 non-null   object \n",
            " 3   TransactionDate  1000 non-null   object \n",
            " 4   Quantity         1000 non-null   int64  \n",
            " 5   TotalValue       1000 non-null   float64\n",
            " 6   Price            1000 non-null   float64\n",
            "dtypes: float64(2), int64(1), object(4)\n",
            "memory usage: 54.8+ KB\n",
            "<class 'pandas.core.frame.DataFrame'>\n",
            "RangeIndex: 100 entries, 0 to 99\n",
            "Data columns (total 4 columns):\n",
            " #   Column       Non-Null Count  Dtype  \n",
            "---  ------       --------------  -----  \n",
            " 0   ProductID    100 non-null    object \n",
            " 1   ProductName  100 non-null    object \n",
            " 2   Category     100 non-null    object \n",
            " 3   Price        100 non-null    float64\n",
            "dtypes: float64(1), object(3)\n",
            "memory usage: 3.3+ KB\n",
            "<class 'pandas.core.frame.DataFrame'>\n",
            "RangeIndex: 200 entries, 0 to 199\n",
            "Data columns (total 4 columns):\n",
            " #   Column        Non-Null Count  Dtype \n",
            "---  ------        --------------  ----- \n",
            " 0   CustomerID    200 non-null    object\n",
            " 1   CustomerName  200 non-null    object\n",
            " 2   Region        200 non-null    object\n",
            " 3   SignupDate    200 non-null    object\n",
            "dtypes: object(4)\n",
            "memory usage: 6.4+ KB\n"
          ]
        }
      ]
    },
    {
      "cell_type": "code",
      "source": [
        "# Data cleaning and preprocessing: Convert dates to datetime for analysis\n",
        "transactions_df['TransactionDate'] = pd.to_datetime(transactions_df['TransactionDate'])\n",
        "customers_df['SignupDate'] = pd.to_datetime(customers_df['SignupDate'])"
      ],
      "metadata": {
        "id": "GuL96wEhu0YJ"
      },
      "execution_count": 8,
      "outputs": []
    },
    {
      "cell_type": "code",
      "source": [
        "# Check for duplicates and remove if any\n",
        "transactions_df.drop_duplicates(inplace=True)\n",
        "products_df.drop_duplicates(inplace=True)\n",
        "customers_df.drop_duplicates(inplace=True)"
      ],
      "metadata": {
        "id": "UU0C59BEu1-7"
      },
      "execution_count": 9,
      "outputs": []
    },
    {
      "cell_type": "code",
      "source": [
        "# Merge datasets for comprehensive analysis\n",
        "merged_df = transactions_df.merge(products_df, on='ProductID').merge(customers_df, on='CustomerID')"
      ],
      "metadata": {
        "id": "oY4oLUQHu4yu"
      },
      "execution_count": 10,
      "outputs": []
    },
    {
      "cell_type": "code",
      "source": [
        "# Conduct basic analysis to understand sales patterns, top products, and regional trends\n",
        "# 1. Top-selling products by quantity\n",
        "top_products = merged_df.groupby('ProductName')['Quantity'].sum().sort_values(ascending=False).head(5)"
      ],
      "metadata": {
        "id": "Phb-gyj1u8Lo"
      },
      "execution_count": 11,
      "outputs": []
    },
    {
      "cell_type": "code",
      "source": [
        "# 2. Sales revenue by region\n",
        "region_sales = merged_df.groupby('Region')['TotalValue'].sum().sort_values(ascending=False)\n"
      ],
      "metadata": {
        "id": "vNW4iAySu_43"
      },
      "execution_count": 16,
      "outputs": []
    },
    {
      "cell_type": "code",
      "source": [
        "# 3. Monthly sales trends\n",
        "merged_df['Month'] = merged_df['TransactionDate'].dt.to_period('M')\n",
        "monthly_sales = merged_df.groupby('Month')['TotalValue'].sum()\n",
        "\n"
      ],
      "metadata": {
        "id": "sVP6XghAvDXq"
      },
      "execution_count": 17,
      "outputs": []
    },
    {
      "cell_type": "code",
      "source": [
        " #4. Customer distribution by region\n",
        "customer_region_distribution = customers_df['Region'].value_counts()"
      ],
      "metadata": {
        "id": "8z_P-dulvGZK"
      },
      "execution_count": 18,
      "outputs": []
    },
    {
      "cell_type": "code",
      "source": [
        "# 5. Product categories contributing to sales\n",
        "category_sales = merged_df.groupby('Category')['TotalValue'].sum().sort_values(ascending=False)\n",
        "\n",
        "top_products, region_sales, monthly_sales, customer_region_distribution, category_sales"
      ],
      "metadata": {
        "colab": {
          "base_uri": "https://localhost:8080/"
        },
        "id": "kF-4q2pzvMel",
        "outputId": "b76dcebf-1d98-4c97-9cf2-e2a77db124fa"
      },
      "execution_count": 19,
      "outputs": [
        {
          "output_type": "execute_result",
          "data": {
            "text/plain": [
              "(ProductName\n",
              " ActiveWear Smartwatch    100\n",
              " SoundWave Headphones      97\n",
              " HomeSense Desk Lamp       81\n",
              " ActiveWear Rug            79\n",
              " SoundWave Cookbook        78\n",
              " Name: Quantity, dtype: int64,\n",
              " Region\n",
              " South America    219352.56\n",
              " Europe           166254.63\n",
              " North America    152313.40\n",
              " Asia             152074.97\n",
              " Name: TotalValue, dtype: float64,\n",
              " Month\n",
              " 2023-12     3769.52\n",
              " 2024-01    66376.39\n",
              " 2024-02    51459.27\n",
              " 2024-03    47828.73\n",
              " 2024-04    57519.06\n",
              " 2024-05    64527.74\n",
              " 2024-06    48771.18\n",
              " 2024-07    71366.39\n",
              " 2024-08    63436.74\n",
              " 2024-09    70603.75\n",
              " 2024-10    47063.22\n",
              " 2024-11    38224.37\n",
              " 2024-12    59049.20\n",
              " Freq: M, Name: TotalValue, dtype: float64,\n",
              " Region\n",
              " South America    59\n",
              " Europe           50\n",
              " North America    46\n",
              " Asia             45\n",
              " Name: count, dtype: int64,\n",
              " Category\n",
              " Books          192147.47\n",
              " Electronics    180783.50\n",
              " Clothing       166170.66\n",
              " Home Decor     150893.93\n",
              " Name: TotalValue, dtype: float64)"
            ]
          },
          "metadata": {},
          "execution_count": 19
        }
      ]
    },
    {
      "cell_type": "code",
      "source": [
        "# Customer Segmentation: Analyze total spend and purchase frequency by customer\n",
        "customer_summary = merged_df.groupby('CustomerID').agg(\n",
        "    TotalSpend=('TotalValue', 'sum'),\n",
        "    PurchaseFrequency=('TransactionID', 'count'),\n",
        "    AvgSpendPerPurchase=('TotalValue', 'mean')\n",
        ").sort_values(by='TotalSpend', ascending=False)"
      ],
      "metadata": {
        "id": "sAfhdbz5wR6q"
      },
      "execution_count": 20,
      "outputs": []
    },
    {
      "cell_type": "code",
      "source": [
        "repeat_customers = customer_summary[customer_summary['PurchaseFrequency'] > 1].shape[0]\n",
        "one_time_customers = customer_summary[customer_summary['PurchaseFrequency'] == 1].shape[0]"
      ],
      "metadata": {
        "id": "g7BLAbF7wT8z"
      },
      "execution_count": 21,
      "outputs": []
    },
    {
      "cell_type": "code",
      "source": [
        "# Calculate proportions\n",
        "repeat_customer_percentage = (repeat_customers / len(customer_summary)) * 100\n",
        "one_time_customer_percentage = (one_time_customers / len(customer_summary)) * 100"
      ],
      "metadata": {
        "id": "Nvie1u8ZwXX_"
      },
      "execution_count": 22,
      "outputs": []
    },
    {
      "cell_type": "code",
      "source": [
        "# Insights ready for next steps\n",
        "customer_summary.head(), repeat_customer_percentage, one_time_customer_percentage"
      ],
      "metadata": {
        "colab": {
          "base_uri": "https://localhost:8080/"
        },
        "id": "HjC0tJrAwf7n",
        "outputId": "4888c3ef-e08e-44be-9eb8-f99026c7b53b"
      },
      "execution_count": 23,
      "outputs": [
        {
          "output_type": "execute_result",
          "data": {
            "text/plain": [
              "(            TotalSpend  PurchaseFrequency  AvgSpendPerPurchase\n",
              " CustomerID                                                    \n",
              " C0141         10673.87                 10          1067.387000\n",
              " C0054          8040.39                  8          1005.048750\n",
              " C0065          7663.70                 10           766.370000\n",
              " C0156          7634.45                 11           694.040909\n",
              " C0082          7572.91                  7          1081.844286,\n",
              " 93.96984924623115,\n",
              " 6.030150753768844)"
            ]
          },
          "metadata": {},
          "execution_count": 23
        }
      ]
    }
  ]
}